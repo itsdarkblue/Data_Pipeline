{
 "cells": [
  {
   "cell_type": "code",
   "execution_count": 6,
   "metadata": {},
   "outputs": [],
   "source": [
    "import pandas as pd\n",
    "import numpy as np\n",
    "import os\n",
    "import glob\n",
    "from glob import glob\n",
    "import re\n",
    "import luigi\n",
    "from operator import itemgetter\n",
    "from persiantools import characters\n",
    "from persiantools.jdatetime import JalaliDate\n",
    "import persiantools\n",
    "import datetime\n",
    "from re import search\n",
    "import itertools\n",
    "from statistics import mode\n",
    "import datetime as dt\n",
    "from joblib import Parallel, delayed\n",
    "import chardet\n",
    "import requests\n",
    "from bs4 import BeautifulSoup\n",
    "import json\n",
    "import time\n",
    "import io\n",
    "import jdatetime\n",
    "# import TSETMCScraping\n",
    "import ar_to_fa\n",
    "import clean_cols\n",
    "import str_to_date\n",
    "import str_to_jdate\n",
    "import str_to_time"
   ]
  },
  {
   "cell_type": "code",
   "execution_count": 12,
   "metadata": {},
   "outputs": [],
   "source": [
    "class TSETMC_Sraping(luigi.Task):\n",
    "    read_path= luigi.Parameter(default=None)\n",
    "    dirr_path= luigi.Parameter(default=None)\n",
    "    def requiers(self):\n",
    "        return None\n",
    "    def output(self):\n",
    "        return luigi.LocalTarget(self.dirr_path)\n",
    "    def run(self):\n",
    "        if os.path.isfile(self.dirr_path):\n",
    "            if self.read_path ==None:\n",
    "                pass\n",
    "            else:\n",
    "                read_link= pd.read_excel(self.read_path)\n",
    "                df= TSETMCScraping.stock_information(read_link)\n",
    "                df.to_csv(self.output().path, mode='a',index=False, header=None)\n",
    "        else:\n",
    "            read_link= pd.read_excel(self.read_path)\n",
    "            df.to_csv(self.output().path, index=False,encoding='utf-8-sig')\n"
   ]
  },
  {
   "cell_type": "code",
   "execution_count": 14,
   "metadata": {},
   "outputs": [
    {
     "ename": "NameError",
     "evalue": "name 'self' is not defined",
     "output_type": "error",
     "traceback": [
      "\u001b[1;31m---------------------------------------------------------------------------\u001b[0m",
      "\u001b[1;31mNameError\u001b[0m                                 Traceback (most recent call last)",
      "\u001b[1;32mc:\\Users\\ah.roudsaz\\Desktop\\code\\Luigi_Pipeline\\Notebook\\Luigi_pipeline.ipynb Cell 3'\u001b[0m in \u001b[0;36m<cell line: 3>\u001b[1;34m()\u001b[0m\n\u001b[0;32m      <a href='vscode-notebook-cell:/c%3A/Users/ah.roudsaz/Desktop/code/Luigi_Pipeline/Notebook/Luigi_pipeline.ipynb#ch0000005?line=0'>1</a>\u001b[0m \u001b[39m# path_1=input('Insert the read path: ')\u001b[39;00m\n\u001b[0;32m      <a href='vscode-notebook-cell:/c%3A/Users/ah.roudsaz/Desktop/code/Luigi_Pipeline/Notebook/Luigi_pipeline.ipynb#ch0000005?line=1'>2</a>\u001b[0m \u001b[39m# path_2= input('insert the output path: ')\u001b[39;00m\n\u001b[1;32m----> <a href='vscode-notebook-cell:/c%3A/Users/ah.roudsaz/Desktop/code/Luigi_Pipeline/Notebook/Luigi_pipeline.ipynb#ch0000005?line=2'>3</a>\u001b[0m \u001b[39mclass\u001b[39;00m \u001b[39mcleaning_trade_history_pandas\u001b[39;00m (\u001b[39mself\u001b[39;49m):\n\u001b[0;32m      <a href='vscode-notebook-cell:/c%3A/Users/ah.roudsaz/Desktop/code/Luigi_Pipeline/Notebook/Luigi_pipeline.ipynb#ch0000005?line=3'>4</a>\u001b[0m     read_path\u001b[39m=\u001b[39m luigi\u001b[39m.\u001b[39mParameter(default\u001b[39m=\u001b[39m\u001b[39mNone\u001b[39;00m)\n\u001b[0;32m      <a href='vscode-notebook-cell:/c%3A/Users/ah.roudsaz/Desktop/code/Luigi_Pipeline/Notebook/Luigi_pipeline.ipynb#ch0000005?line=4'>5</a>\u001b[0m     dirr_path\u001b[39m=\u001b[39m luigi\u001b[39m.\u001b[39mParameter(default\u001b[39m=\u001b[39m\u001b[39mNone\u001b[39;00m)\n",
      "\u001b[1;31mNameError\u001b[0m: name 'self' is not defined"
     ]
    }
   ],
   "source": [
    "# path_1=input('Insert the read path: ')\n",
    "# path_2= input('insert the output path: ')\n",
    "class cleaning_trade_history_pandas (luigi.Task):\n",
    "    read_path= luigi.Parameter(default=None)\n",
    "    dirr_path= luigi.Parameter(default=None)\n",
    "    def requiers(self):\n",
    "        return TSETMC_Sraping()\n",
    "    def output(self):\n",
    "        return luigi.LocalTarget(self.dirr_path)\n",
    "    def run(self):\n",
    "        df= pd.read_csv(self.read_path)\n",
    "        clean_cols(df)\n",
    "        ar_to_fa(df)\n",
    "        str_to_date(df)\n",
    "        str_to_jdate(df)\n",
    "        str_to_time(df)\n",
    "# if __name__=='__main__':\n",
    "#     luigi.build([cleaning_trade_history_pandas()],read_path= path_1,dirr_path=path_2,local_scheduler=True)"
   ]
  },
  {
   "cell_type": "code",
   "execution_count": 6,
   "metadata": {},
   "outputs": [
    {
     "name": "stderr",
     "output_type": "stream",
     "text": [
      "DEBUG: Checking if HellowWorld() is complete\n",
      "INFO: Informed scheduler that task   HellowWorld__99914b932b   has status   PENDING\n",
      "INFO: Done scheduling tasks\n",
      "INFO: Running Worker with 1 processes\n",
      "DEBUG: Asking scheduler for work...\n",
      "DEBUG: Pending tasks: 1\n",
      "INFO: [pid 48680] Worker Worker(salt=034725087, workers=1, host=POOLBANK-RDS2, username=ah.roudsaz, pid=48680) running   HellowWorld()\n",
      "INFO: [pid 48680] Worker Worker(salt=034725087, workers=1, host=POOLBANK-RDS2, username=ah.roudsaz, pid=48680) done      HellowWorld()\n",
      "DEBUG: 1 running tasks, waiting for next task to finish\n",
      "INFO: Informed scheduler that task   HellowWorld__99914b932b   has status   DONE\n",
      "DEBUG: Asking scheduler for work...\n",
      "DEBUG: Done\n",
      "DEBUG: There are no more tasks to run at this time\n",
      "INFO: Worker Worker(salt=034725087, workers=1, host=POOLBANK-RDS2, username=ah.roudsaz, pid=48680) was stopped. Shutting down Keep-Alive thread\n",
      "INFO: \n",
      "===== Luigi Execution Summary =====\n",
      "\n",
      "Scheduled 1 tasks of which:\n",
      "* 1 ran successfully:\n",
      "    - 1 HellowWorld()\n",
      "\n",
      "This progress looks :) because there were no failed tasks or missing dependencies\n",
      "\n",
      "===== Luigi Execution Summary =====\n",
      "\n"
     ]
    }
   ],
   "source": [
    "class HellowWorld(luigi.Task):\n",
    "    def requires(self):\n",
    "        return None\n",
    "    def output(self):\n",
    "        return luigi.LocalTarget('helloworld.txt')\n",
    "    def run (self):\n",
    "        with self.output().open('w') as outfile:\n",
    "            outfile.write('Hello world\\n')\n",
    "if __name__ == '__main__':\n",
    "    luigi.build([HellowWorld()], local_scheduler=True)"
   ]
  },
  {
   "cell_type": "code",
   "execution_count": null,
   "metadata": {},
   "outputs": [],
   "source": []
  }
 ],
 "metadata": {
  "interpreter": {
   "hash": "5b6dbfc68184f998ca3ee3e5349d365e100780b212775c518b5644fdf1d4ec58"
  },
  "kernelspec": {
   "display_name": "Python 3.10.2 64-bit",
   "language": "python",
   "name": "python3"
  },
  "language_info": {
   "codemirror_mode": {
    "name": "ipython",
    "version": 3
   },
   "file_extension": ".py",
   "mimetype": "text/x-python",
   "name": "python",
   "nbconvert_exporter": "python",
   "pygments_lexer": "ipython3",
   "version": "3.10.2"
  },
  "orig_nbformat": 4
 },
 "nbformat": 4,
 "nbformat_minor": 2
}
