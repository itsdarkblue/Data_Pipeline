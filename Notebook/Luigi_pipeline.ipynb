{
 "cells": [
  {
   "cell_type": "code",
   "execution_count": 10,
   "metadata": {},
   "outputs": [],
   "source": [
    "import pandas as pd\n",
    "import numpy as np\n",
    "import os\n",
    "import glob\n",
    "from glob import glob\n",
    "import re\n",
    "import luigi\n",
    "from operator import itemgetter\n",
    "from persiantools import characters\n",
    "from persiantools.jdatetime import JalaliDate\n",
    "import persiantools\n",
    "import datetime\n",
    "from re import search\n",
    "import itertools\n",
    "from statistics import mode\n",
    "import datetime as dt\n",
    "from joblib import Parallel, delayed\n",
    "import chardet\n",
    "import requests\n",
    "from bs4 import BeautifulSoup\n",
    "import json\n",
    "import time\n",
    "import io\n",
    "import jdatetime\n",
    "import TSETMCScraping\n",
    "import ar_to_fa\n",
    "import clean_cols\n",
    "import str_to_date\n",
    "import str_to_jdate\n",
    "import str_to_time\n",
    "import cleaning_path\n",
    "from luigi.mock import MockTarget\n",
    "import stock_information_cleaning"
   ]
  },
  {
   "cell_type": "code",
   "execution_count": 8,
   "metadata": {},
   "outputs": [],
   "source": [
    "class TSETMC_Sraping(luigi.Task):\n",
    "    read_path= luigi.Parameter(default=None)\n",
    "    dirr_path= luigi.Parameter(default=None)\n",
    "    def requiers(self):\n",
    "        return None\n",
    "    def output(self):\n",
    "        return luigi.LocalTarget(self.dirr_path)\n",
    "    # def output(self):\n",
    "    #     return MockTarget(\"first task\", mirror_on_stderr=True)\n",
    "    def run(self):\n",
    "        Data_scraping= input('wich data do you want to scrap: (trade\\information\\shareholders) ')\n",
    "        if Data_scraping =='information':\n",
    "            if os.path.exists(self.dirr_path):\n",
    "                pass\n",
    "            else:\n",
    "                scrap_links= pd.read_excel(self.read_path)\n",
    "                df= TSETMCScraping.stock_information(scrap_links)\n",
    "                df= cleaning_path.column_clustering(df)\n",
    "                df= stock_information_cleaning.string_clean(df)\n",
    "                df= stock_information_cleaning.price_clean(df)\n",
    "                df= stock_information_cleaning.code_clean(df)\n",
    "                df.to_csv(self.output().path, index=False, encoding='utf-8-sig')\n",
    "        if Data_scraping == 'trade':\n",
    "            if os.path.exists(self.dirr_path):\n",
    "                pass\n",
    "            else:\n",
    "                scrap_links= pd.read_excel(self.read_path)\n",
    "                df= TSETMCScraping.trade_history(scrap_links)\n",
    "                df= cleaning_path.clean_cols(df)\n",
    "                df= cleaning_path.ar_to_fa(df)\n",
    "                df= cleaning_path.str_to_date(df)\n",
    "                df= cleaning_path.date_to_jdate(df)\n",
    "                df.to_csv(self.output().path, index=False, encoding='utf-8-sig')\n",
    "        if Data_scraping == 'shareholders':\n",
    "            if os.path.exists(self.dirr_path):\n",
    "                pass\n",
    "            else:\n",
    "                scrap_links= pd.read_excel(self.read_path)\n",
    "                df= TSETMCScraping.shareholders(scrap_links)\n",
    "                df.to_csv(self.output().path, index=False, encoding='utf-8-sig')"
   ]
  },
  {
   "cell_type": "code",
   "execution_count": 9,
   "metadata": {},
   "outputs": [
    {
     "name": "stderr",
     "output_type": "stream",
     "text": [
      "DEBUG: Checking if TSETMC_Sraping(read_path=C:\\Users\\ah.roudsaz\\Desktop\\test.xlsx, dirr_path=C:\\Users\\ah.roudsaz\\Desktop\\output.csv) is complete\n",
      "INFO: Informed scheduler that task   TSETMC_Sraping_C__Users_ah_roud_C__Users_ah_roud_6f6acf47fd   has status   PENDING\n",
      "INFO: Done scheduling tasks\n",
      "INFO: Running Worker with 1 processes\n",
      "DEBUG: Asking scheduler for work...\n",
      "DEBUG: Pending tasks: 1\n",
      "INFO: [pid 20320] Worker Worker(salt=181191707, workers=1, host=POOLBANK-RDS2, username=ah.roudsaz, pid=20320) running   TSETMC_Sraping(read_path=C:\\Users\\ah.roudsaz\\Desktop\\test.xlsx, dirr_path=C:\\Users\\ah.roudsaz\\Desktop\\output.csv)\n",
      "INFO: [pid 20320] Worker Worker(salt=181191707, workers=1, host=POOLBANK-RDS2, username=ah.roudsaz, pid=20320) done      TSETMC_Sraping(read_path=C:\\Users\\ah.roudsaz\\Desktop\\test.xlsx, dirr_path=C:\\Users\\ah.roudsaz\\Desktop\\output.csv)\n",
      "DEBUG: 1 running tasks, waiting for next task to finish\n",
      "INFO: Informed scheduler that task   TSETMC_Sraping_C__Users_ah_roud_C__Users_ah_roud_6f6acf47fd   has status   DONE\n",
      "DEBUG: Asking scheduler for work...\n",
      "DEBUG: Done\n",
      "DEBUG: There are no more tasks to run at this time\n",
      "INFO: Worker Worker(salt=181191707, workers=1, host=POOLBANK-RDS2, username=ah.roudsaz, pid=20320) was stopped. Shutting down Keep-Alive thread\n",
      "INFO: \n",
      "===== Luigi Execution Summary =====\n",
      "\n",
      "Scheduled 1 tasks of which:\n",
      "* 1 ran successfully:\n",
      "    - 1 TSETMC_Sraping(read_path=C:\\Users\\ah.roudsaz\\Desktop\\test.xlsx, dirr_path=C:\\Users\\ah.roudsaz\\Desktop\\output.csv)\n",
      "\n",
      "This progress looks :) because there were no failed tasks or missing dependencies\n",
      "\n",
      "===== Luigi Execution Summary =====\n",
      "\n"
     ]
    }
   ],
   "source": [
    "if __name__=='__main__':\n",
    "    luigi.build([TSETMC_Sraping(read_path=\"C:\\\\Users\\\\ah.roudsaz\\\\Desktop\\\\test.xlsx\",\n",
    "                dirr_path=\"C:\\\\Users\\\\ah.roudsaz\\\\Desktop\\\\output.csv\")],local_scheduler=True)"
   ]
  },
  {
   "cell_type": "code",
   "execution_count": null,
   "metadata": {},
   "outputs": [],
   "source": [
    "class GatherWords(luigi.Task):\n",
    "    def output(self):\n",
    "        return MockTarget('first task')\n",
    "\n",
    "    def run(self):\n",
    "        words = [\n",
    "                'apple',\n",
    "                'banana',\n",
    "                'grapefruit'\n",
    "                ]\n",
    "\n",
    "        with self.output().open('w') as f:\n",
    "            for word in words:\n",
    "                f.write('{word}\\n'.format(word=word))\n"
   ]
  },
  {
   "cell_type": "code",
   "execution_count": null,
   "metadata": {},
   "outputs": [],
   "source": [
    "class letterCount (luigi.Task):\n",
    "    def requires(self):\n",
    "        return GatherWords()\n",
    "\n",
    "    def output(self):\n",
    "        return luigi.LocalTarget('letter_counts.txt')\n",
    "\n",
    "    def run(self):\n",
    "        words = list(self.input())\n",
    "        with self.output().open('w') as outfile:\n",
    "            for word in words:\n",
    "                outfile.write(\n",
    "                        '{word} | {letter_count}\\n'.format(\n",
    "                            word=word,\n",
    "                            letter_count=len(word)\n",
    "                            )\n",
    "                        )"
   ]
  },
  {
   "cell_type": "code",
   "execution_count": null,
   "metadata": {},
   "outputs": [],
   "source": [
    "if __name__ == '__main__':\n",
    "    luigi.build([letterCount()],local_scheduler=True)"
   ]
  },
  {
   "cell_type": "code",
   "execution_count": null,
   "metadata": {},
   "outputs": [],
   "source": []
  }
 ],
 "metadata": {
  "interpreter": {
   "hash": "5b6dbfc68184f998ca3ee3e5349d365e100780b212775c518b5644fdf1d4ec58"
  },
  "kernelspec": {
   "display_name": "Python 3.10.2 64-bit",
   "language": "python",
   "name": "python3"
  },
  "language_info": {
   "codemirror_mode": {
    "name": "ipython",
    "version": 3
   },
   "file_extension": ".py",
   "mimetype": "text/x-python",
   "name": "python",
   "nbconvert_exporter": "python",
   "pygments_lexer": "ipython3",
   "version": "3.10.2"
  },
  "orig_nbformat": 4
 },
 "nbformat": 4,
 "nbformat_minor": 2
}
