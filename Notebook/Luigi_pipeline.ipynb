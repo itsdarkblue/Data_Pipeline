{
 "cells": [
  {
   "cell_type": "code",
   "execution_count": 1,
   "metadata": {},
   "outputs": [],
   "source": [
    "import pandas as pd\n",
    "import numpy as np\n",
    "import os\n",
    "import glob\n",
    "from glob import glob\n",
    "import re\n",
    "import luigi\n",
    "from operator import itemgetter\n",
    "from persiantools import characters\n",
    "from persiantools.jdatetime import JalaliDate\n",
    "import persiantools\n",
    "import datetime\n",
    "from re import search\n",
    "import itertools\n",
    "from statistics import mode\n",
    "import datetime as dt\n",
    "from joblib import Parallel, delayed\n",
    "import chardet\n",
    "import requests\n",
    "from bs4 import BeautifulSoup\n",
    "import json\n",
    "import time\n",
    "import io\n",
    "import jdatetime\n",
    "import TSETMCScraping\n",
    "import ar_to_fa\n",
    "import clean_cols\n",
    "import str_to_date\n",
    "import str_to_jdate\n",
    "import str_to_time\n",
    "import cleaning_path"
   ]
  },
  {
   "cell_type": "code",
   "execution_count": null,
   "metadata": {},
   "outputs": [],
   "source": [
    "class TSETMC_Sraping(luigi.Task):\n",
    "    read_path= luigi.Parameter(default=None)\n",
    "    dirr_path= luigi.Parameter(default=None)\n",
    "    def requiers(self):\n",
    "        return luigi.LocalTarget(self.dirr_path)\n",
    "    def output(self):\n",
    "        return luigi.LocalTarget(self.dirr_path)\n",
    "    def run(self):\n",
    "        if os.path.isfile(self.dirr_path):\n",
    "            if self.read_path ==None:\n",
    "                pass\n",
    "            else:\n",
    "                read_link= pd.read_excel(self.read_path)\n",
    "                df= TSETMCScraping.stock_information(read_link)\n",
    "                df.to_csv(self.output().path, mode='a',index=False, header=None)\n",
    "        else:\n",
    "            read_link= pd.read_excel(self.read_path)\n",
    "            df= TSETMCScraping.stock_information(read_link)\n",
    "            df.to_csv(self.output().path, index=False,encoding='utf-8-sig')\n"
   ]
  },
  {
   "cell_type": "code",
   "execution_count": null,
   "metadata": {},
   "outputs": [],
   "source": [
    "class TSETMC_Sraping_op(luigi.Task):\n",
    "    read_path= luigi.Parameter(default=None)\n",
    "    dirr_path= luigi.Parameter(default=None)\n",
    "    def requiers(self):\n",
    "        return None\n",
    "    def output(self):\n",
    "        return luigi.LocalTarget(self.dirr_path)\n",
    "    def run(self):\n",
    "        Data_scraping= input('wich data do you want to scrap: (trade\\information\\shareholders) ')\n",
    "        if Data_scraping =='information':\n",
    "            if os.path.exists(self.dirr_path):\n",
    "                pass\n",
    "            else:\n",
    "                scrap_links= pd.read_excel(self.read_path)\n",
    "                df= TSETMCScraping.stock_information(scrap_links)\n",
    "                df.to_csv(self.output().path, index=False, encoding='utf-8-sig')\n",
    "        if Data_scraping == 'trade':\n",
    "            if os.path.exists(self.dirr_path):\n",
    "                pass\n",
    "            else:\n",
    "                scrap_links= pd.read_excel(self.read_path)\n",
    "                df= TSETMCScraping.stock_information(scrap_links)\n",
    "                df.to_csv(self.output().path, index=False, encoding='utf-8-sig')\n",
    "        if Data_scraping == 'shareholders':\n",
    "            if os.path.exists(self.dirr_path):\n",
    "                pass\n",
    "            else:\n",
    "                scrap_links= pd.read_excel(self.read_path)\n",
    "                df= TSETMCScraping.stock_information(scrap_links)\n",
    "                df.to_csv(self.output().path, index=False, encoding='utf-8-sig')"
   ]
  },
  {
   "cell_type": "code",
   "execution_count": null,
   "metadata": {},
   "outputs": [],
   "source": [
    "class cleaning (luigi.Task):\n",
    "    dirr_path_2= luigi.Parameter(default=None)\n",
    "    def requiers(self):\n",
    "        return TSETMC_Sraping_op()\n",
    "    def output(self):\n",
    "        return luigi.LocalTarget(self.dirr_path_2)\n",
    "    def run(self):\n",
    "        if os.path.exists():\n",
    "            pass\n",
    "        else:\n",
    "            df= pd.read_csv(self.input())\n",
    "            df= cleaning_path.clean_cols(df)\n",
    "            df= cleaning_path.ar_to_fa(df)\n",
    "            df= cleaning_path.str_to_date(df)\n",
    "            df= cleaning_path.date_to_jdate(df)\n",
    "            df.to_csv(self.output().path,index=False, encoding='utf-8-sig')\n",
    "if __name__=='__main__':\n",
    "    luigi.build([cleaning()],read_path= ,dirr_path=path_2,dirr_path_2= ,local_scheduler=True)"
   ]
  },
  {
   "cell_type": "code",
   "execution_count": null,
   "metadata": {},
   "outputs": [],
   "source": [
    "class GatherWords(luigi.Task):\n",
    "    def output(self):\n",
    "        return luigi.LocalTarget('text.txt')\n",
    "    def run(self):\n",
    "        words=['apple','orange','banana']\n",
    "        return words"
   ]
  },
  {
   "cell_type": "code",
   "execution_count": null,
   "metadata": {},
   "outputs": [],
   "source": [
    "class letterCount (luigi.Task):\n",
    "    def output(self):\n",
    "        return luigi.LocalTarget('letter_count.txt')\n",
    "    def run(self):\n",
    "        words= yield GatherWords()\n",
    "        with self.output().open('w') as outfile:\n",
    "            for word in words:\n",
    "                outfile.write('{word}| {letter_count}\\n',format(word=word,letter_count=len(word)))"
   ]
  },
  {
   "cell_type": "code",
   "execution_count": null,
   "metadata": {},
   "outputs": [],
   "source": [
    "if __name__ == '__main__':\n",
    "    luigi.build([letterCount()],local_scheduler=True)"
   ]
  },
  {
   "cell_type": "code",
   "execution_count": null,
   "metadata": {},
   "outputs": [],
   "source": []
  }
 ],
 "metadata": {
  "interpreter": {
   "hash": "5b6dbfc68184f998ca3ee3e5349d365e100780b212775c518b5644fdf1d4ec58"
  },
  "kernelspec": {
   "display_name": "Python 3.10.2 64-bit",
   "language": "python",
   "name": "python3"
  },
  "language_info": {
   "codemirror_mode": {
    "name": "ipython",
    "version": 3
   },
   "file_extension": ".py",
   "mimetype": "text/x-python",
   "name": "python",
   "nbconvert_exporter": "python",
   "pygments_lexer": "ipython3",
   "version": "3.10.2"
  },
  "orig_nbformat": 4
 },
 "nbformat": 4,
 "nbformat_minor": 2
}
